{
 "cells": [
  {
   "cell_type": "code",
   "execution_count": 6,
   "metadata": {},
   "outputs": [],
   "source": [
    "from utils import *\n",
    "\n",
    "from torch_geometric.utils import dropout_adj, convert, to_networkx"
   ]
  },
  {
   "cell_type": "code",
   "execution_count": 3,
   "metadata": {},
   "outputs": [
    {
     "name": "stderr",
     "output_type": "stream",
     "text": [
      "/home/wsl/code/EECS545/utils.py:183: SettingWithCopyWarning: \n",
      "A value is trying to be set on a copy of a slice from a DataFrame\n",
      "\n",
      "See the caveats in the documentation: https://pandas.pydata.org/pandas-docs/stable/user_guide/indexing.html#returning-a-view-versus-a-copy\n",
      "  idx_features_labels['Gender'][idx_features_labels['Gender'] == 'Female'] = 1\n",
      "/home/wsl/code/EECS545/utils.py:184: SettingWithCopyWarning: \n",
      "A value is trying to be set on a copy of a slice from a DataFrame\n",
      "\n",
      "See the caveats in the documentation: https://pandas.pydata.org/pandas-docs/stable/user_guide/indexing.html#returning-a-view-versus-a-copy\n",
      "  idx_features_labels['Gender'][idx_features_labels['Gender'] == 'Male'] = 0\n"
     ]
    }
   ],
   "source": [
    "\n",
    "sens_attr = \"Gender\"  # column number after feature process is 0\n",
    "sens_idx = 0\n",
    "predict_attr = \"GoodCustomer\"\n",
    "label_number = 100\n",
    "path_german = \"./dataset/german\"\n",
    "adj, features, labels, idx_train, idx_val, idx_test, sens = load_german(\"german\", sens_attr,\n",
    "                                                                                        predict_attr, path=path_german,\n",
    "                                                                                        label_number=label_number,\n",
    "                                                                                        )"
   ]
  },
  {
   "cell_type": "code",
   "execution_count": 41,
   "metadata": {},
   "outputs": [],
   "source": [
    "t[0].shape"
   ]
  },
  {
   "cell_type": "code",
   "execution_count": 32,
   "metadata": {},
   "outputs": [],
   "source": [
    "from scipy.sparse import coo_matrix"
   ]
  },
  {
   "cell_type": "code",
   "execution_count": 43,
   "metadata": {},
   "outputs": [
    {
     "data": {
      "text/plain": [
       "torch.Size([2, 44484])"
      ]
     },
     "execution_count": 43,
     "metadata": {},
     "output_type": "execute_result"
    }
   ],
   "source": [
    "t[0].shape"
   ]
  },
  {
   "cell_type": "code",
   "execution_count": 31,
   "metadata": {},
   "outputs": [
    {
     "data": {
      "text/plain": [
       "array([1., 1., 1., ..., 1., 1., 1.])"
      ]
     },
     "execution_count": 31,
     "metadata": {},
     "output_type": "execute_result"
    }
   ],
   "source": [
    "data = np.ones(edge_index.shape[1])"
   ]
  },
  {
   "cell_type": "code",
   "execution_count": 29,
   "metadata": {},
   "outputs": [
    {
     "data": {
      "text/plain": [
       "44484"
      ]
     },
     "execution_count": 29,
     "metadata": {},
     "output_type": "execute_result"
    }
   ],
   "source": [
    "edge_index.shape[1]"
   ]
  },
  {
   "cell_type": "code",
   "execution_count": 42,
   "metadata": {},
   "outputs": [
    {
     "data": {
      "text/plain": [
       "0.0"
      ]
     },
     "execution_count": 42,
     "metadata": {},
     "output_type": "execute_result"
    }
   ],
   "source": [
    "tm[1,3]"
   ]
  },
  {
   "cell_type": "code",
   "execution_count": 34,
   "metadata": {},
   "outputs": [],
   "source": [
    "tm = coo_matrix((data,edge_index.numpy()),shape=(1000,1000))"
   ]
  },
  {
   "cell_type": "code",
   "execution_count": 28,
   "metadata": {},
   "outputs": [
    {
     "data": {
      "text/plain": [
       "array([1., 1., 1.])"
      ]
     },
     "execution_count": 28,
     "metadata": {},
     "output_type": "execute_result"
    }
   ],
   "source": [
    "import numpy as np\n",
    "np.ones(3)"
   ]
  },
  {
   "cell_type": "code",
   "execution_count": 12,
   "metadata": {},
   "outputs": [
    {
     "name": "stdout",
     "output_type": "stream",
     "text": [
      "tensor([0, 0])\n",
      "tensor([ 0, 29])\n",
      "tensor([ 0, 61])\n",
      "tensor([ 0, 72])\n",
      "tensor([ 0, 75])\n",
      "tensor([  0, 123])\n",
      "tensor([  0, 169])\n",
      "tensor([  0, 184])\n",
      "tensor([  0, 206])\n",
      "tensor([  0, 213])\n",
      "tensor([  0, 223])\n",
      "tensor([  0, 246])\n",
      "tensor([  0, 303])\n",
      "tensor([  0, 387])\n",
      "tensor([  0, 438])\n",
      "tensor([  0, 541])\n",
      "tensor([  0, 554])\n",
      "tensor([  0, 589])\n",
      "tensor([  0, 590])\n",
      "tensor([  0, 668])\n",
      "tensor([  0, 754])\n",
      "tensor([  0, 769])\n",
      "tensor([  0, 773])\n",
      "tensor([  0, 798])\n",
      "tensor([  0, 838])\n",
      "tensor([  0, 852])\n",
      "tensor([  0, 891])\n",
      "tensor([  0, 933])\n",
      "tensor([  0, 978])\n",
      "tensor([29,  0])\n",
      "tensor([61,  0])\n",
      "tensor([72,  0])\n",
      "tensor([75,  0])\n",
      "tensor([123,   0])\n",
      "tensor([169,   0])\n",
      "tensor([184,   0])\n",
      "tensor([206,   0])\n",
      "tensor([213,   0])\n",
      "tensor([223,   0])\n",
      "tensor([246,   0])\n",
      "tensor([303,   0])\n",
      "tensor([387,   0])\n",
      "tensor([438,   0])\n",
      "tensor([541,   0])\n",
      "tensor([554,   0])\n",
      "tensor([589,   0])\n",
      "tensor([590,   0])\n",
      "tensor([668,   0])\n",
      "tensor([754,   0])\n",
      "tensor([769,   0])\n",
      "tensor([773,   0])\n",
      "tensor([798,   0])\n",
      "tensor([838,   0])\n",
      "tensor([852,   0])\n",
      "tensor([891,   0])\n",
      "tensor([933,   0])\n",
      "tensor([978,   0])\n"
     ]
    }
   ],
   "source": [
    "for i in range(44484):\n",
    "\tif edge_index[0,i] == 0 or edge_index[1,i] == 0:\n",
    "\t\tprint(edge_index[:,i])"
   ]
  },
  {
   "cell_type": "code",
   "execution_count": null,
   "metadata": {},
   "outputs": [],
   "source": []
  }
 ],
 "metadata": {
  "interpreter": {
   "hash": "83ade5d25105f4f660715adb5096b43d6a53aec1e080bbb690291b7c38ad4da5"
  },
  "kernelspec": {
   "display_name": "Python 3.9.7 64-bit ('GNN': conda)",
   "language": "python",
   "name": "python3"
  },
  "language_info": {
   "codemirror_mode": {
    "name": "ipython",
    "version": 3
   },
   "file_extension": ".py",
   "mimetype": "text/x-python",
   "name": "python",
   "nbconvert_exporter": "python",
   "pygments_lexer": "ipython3",
   "version": "3.9.7"
  },
  "orig_nbformat": 4
 },
 "nbformat": 4,
 "nbformat_minor": 2
}
